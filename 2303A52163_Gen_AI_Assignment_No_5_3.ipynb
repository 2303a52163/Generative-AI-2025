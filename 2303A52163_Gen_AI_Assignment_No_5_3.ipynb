{
  "nbformat": 4,
  "nbformat_minor": 0,
  "metadata": {
    "colab": {
      "provenance": [],
      "authorship_tag": "ABX9TyMkVFJzXr50Q9ZrYfyY+viw",
      "include_colab_link": true
    },
    "kernelspec": {
      "name": "python3",
      "display_name": "Python 3"
    },
    "language_info": {
      "name": "python"
    }
  },
  "cells": [
    {
      "cell_type": "markdown",
      "metadata": {
        "id": "view-in-github",
        "colab_type": "text"
      },
      "source": [
        "<a href=\"https://colab.research.google.com/github/2303a52163/Generative-AI-2025/blob/main/2303A52163_Gen_AI_Assignment_No_5_3.ipynb\" target=\"_parent\"><img src=\"https://colab.research.google.com/assets/colab-badge.svg\" alt=\"Open In Colab\"/></a>"
      ]
    },
    {
      "cell_type": "markdown",
      "source": [
        "#**1.Question**\n",
        "\n",
        "1. (1 ponto) Design a multi-layer ANN architecture with one input, one hidden, and one output\n",
        "layer. Assume a linear activation function in the output layer and a sigmoid activation function\n",
        "in the hidden layer.\n",
        "• Write Python code for a backpropagation algorithm with gradient descent optimization to\n",
        "update weights and bias parameters of the ANN model with training data shown in Table\n",
        "1.\n",
        "• Calculate the mean square error with training and testing data shown in Table 2.\n",
        "• Write Python code that reads the input data [x1 and x2] from the user. Predict the output\n",
        "with deployed ANN model\n",
        "\n",
        "Tabela 1:\n",
        "\n",
        "Training Data\n",
        "\n",
        "x1 x2 y\n",
        "\n",
        "1 2 0.4140\n",
        "\n",
        "2 3 0.4611\n",
        "\n",
        "5 6 0.5501\n",
        "\n",
        "6 7 0.5656\n",
        "\n",
        "7 8 0.5765\n",
        "\n",
        "8 9 0.5840\n",
        "\n",
        "Tabela 2:\n",
        "\n",
        "Test Data\n",
        "\n",
        "x1 x2 y\n",
        "\n",
        "3 4 0.4992\n",
        "\n",
        "4 5 0.5285\n",
        "\n"
      ],
      "metadata": {
        "id": "o1m6Z1QYrwzA"
      }
    },
    {
      "cell_type": "code",
      "source": [
        "import numpy as np\n",
        "import matplotlib.pyplot as plt\n",
        "\n",
        "np.random.seed(42)\n",
        "input_neurons = 2\n",
        "hidden_neurons = 3\n",
        "output_neurons = 1\n",
        "\n",
        "W1 = np.random.randn(input_neurons, hidden_neurons)\n",
        "b1 = np.zeros((1, hidden_neurons))\n",
        "W2 = np.random.randn(hidden_neurons, output_neurons)\n",
        "b2 = np.zeros((1, output_neurons))\n"
      ],
      "metadata": {
        "id": "RH54gSdQrxA-"
      },
      "execution_count": 3,
      "outputs": []
    },
    {
      "cell_type": "code",
      "source": [
        "def sigmoid(x):\n",
        "    return 1 / (1 + np.exp(-x))\n",
        "\n",
        "def sigmoid_derivative(x):\n",
        "    return x * (1 - x)"
      ],
      "metadata": {
        "id": "bhYLDU9TtEXm"
      },
      "execution_count": 5,
      "outputs": []
    },
    {
      "cell_type": "code",
      "source": [
        "def forward_propagation(X):\n",
        "    Z1 = np.dot(X, W1) + b1\n",
        "    A1 = sigmoid(Z1)\n",
        "    Z2 = np.dot(A1, W2) + b2\n",
        "    return Z1, A1, Z2"
      ],
      "metadata": {
        "id": "hfzj14-htUHp"
      },
      "execution_count": 6,
      "outputs": []
    },
    {
      "cell_type": "code",
      "source": [
        "def backpropagation(X, Y, Z1, A1, Z2, learning_rate=0.01):\n",
        "    global W1, b1, W2, b2\n",
        "\n",
        "    # Compute errors\n",
        "    error = Z2 - Y\n",
        "    dW2 = np.dot(A1.T, error) / len(X)\n",
        "    db2 = np.mean(error, axis=0)\n",
        "\n",
        "    # Hidden layer error\n",
        "    dA1 = np.dot(error, W2.T)\n",
        "    dZ1 = dA1 * sigmoid_derivative(A1)\n",
        "    dW1 = np.dot(X.T, dZ1) / len(X)\n",
        "    db1 = np.mean(dZ1, axis=0)\n",
        "\n",
        "    # Update weights\n",
        "    W1 -= learning_rate * dW1\n",
        "    b1 -= learning_rate * db1\n",
        "    W2 -= learning_rate * dW2\n",
        "    b2 -= learning_rate * db2\n"
      ],
      "metadata": {
        "id": "Nr-SZl19tbfc"
      },
      "execution_count": 7,
      "outputs": []
    },
    {
      "cell_type": "code",
      "source": [
        "# Training Data (Table 1)\n",
        "X_train = np.array([[1, 2], [2, 3], [5, 6], [6, 7], [7, 8], [8, 9]])\n",
        "Y_train = np.array([[0.4140], [0.4611], [0.5501], [0.5656], [0.5765], [0.5840]])\n",
        "\n",
        "epochs = 1000\n",
        "learning_rate = 0.01\n",
        "losses = []\n",
        "\n",
        "for epoch in range(epochs):\n",
        "    Z1, A1, Z2 = forward_propagation(X_train)\n",
        "    loss = np.mean((Z2 - Y_train) ** 2)\n",
        "    losses.append(loss)\n",
        "    backpropagation(X_train, Y_train, Z1, A1, Z2, learning_rate)\n",
        "\n",
        "    if epoch % 100 == 0:\n",
        "        print(f\"Epoch {epoch}, Loss: {loss:.5f}\")\n",
        "\n",
        "\n",
        "plt.plot(losses)\n",
        "plt.xlabel(\"Epochs\")\n",
        "plt.ylabel(\"MSE Loss\")\n",
        "plt.title(\"Training Loss\")\n",
        "plt.show()\n"
      ],
      "metadata": {
        "colab": {
          "base_uri": "https://localhost:8080/",
          "height": 654
        },
        "id": "OV5199pytkxt",
        "outputId": "27232f72-d5bf-4af4-d4eb-03d95a2b9155"
      },
      "execution_count": 8,
      "outputs": [
        {
          "output_type": "stream",
          "name": "stdout",
          "text": [
            "Epoch 0, Loss: 0.65857\n",
            "Epoch 100, Loss: 0.05230\n",
            "Epoch 200, Loss: 0.04526\n",
            "Epoch 300, Loss: 0.04056\n",
            "Epoch 400, Loss: 0.03654\n",
            "Epoch 500, Loss: 0.03310\n",
            "Epoch 600, Loss: 0.03017\n",
            "Epoch 700, Loss: 0.02767\n",
            "Epoch 800, Loss: 0.02551\n",
            "Epoch 900, Loss: 0.02365\n"
          ]
        },
        {
          "output_type": "display_data",
          "data": {
            "text/plain": [
              "<Figure size 640x480 with 1 Axes>"
            ],
            "image/png": "[encoded data removed]"
          },
          "metadata": {}
        }
      ]
    },
    {
      "cell_type": "code",
      "source": [
        "# Test Data (Table 2)\n",
        "X_test = np.array([[3, 4], [4, 5]])\n",
        "Y_test = np.array([[0.4992], [0.5285]])\n",
        "\n",
        "_, _, Y_pred_test = forward_propagation(X_test)\n",
        "mse_test = np.mean((Y_pred_test - Y_test) ** 2)\n",
        "\n",
        "print(f\"Test MSE: {mse_test:.5f}\")\n"
      ],
      "metadata": {
        "colab": {
          "base_uri": "https://localhost:8080/"
        },
        "id": "SswuoUIHtsVy",
        "outputId": "7f269377-1f6d-4599-a0e0-999317b5c345"
      },
      "execution_count": 9,
      "outputs": [
        {
          "output_type": "stream",
          "name": "stdout",
          "text": [
            "Test MSE: 0.00109\n"
          ]
        }
      ]
    },
    {
      "cell_type": "code",
      "source": [
        "def predict():\n",
        "    x1 = float(input(\"Enter x1: \"))\n",
        "    x2 = float(input(\"Enter x2: \"))\n",
        "    X_new = np.array([[x1, x2]])\n",
        "    _, _, Y_new = forward_propagation(X_new)\n",
        "    print(f\"Predicted Output: {Y_new[0, 0]:.5f}\")\n",
        "\n",
        "predict()"
      ],
      "metadata": {
        "colab": {
          "base_uri": "https://localhost:8080/"
        },
        "id": "5QQz-8yxtwk3",
        "outputId": "1b0b946a-eabc-4953-cff0-58101b895908"
      },
      "execution_count": 13,
      "outputs": [
        {
          "output_type": "stream",
          "name": "stdout",
          "text": [
            "Enter x1: 4\n",
            "Enter x2: 5\n",
            "Predicted Output: 0.50014\n"
          ]
        }
      ]
    }
  ]
}